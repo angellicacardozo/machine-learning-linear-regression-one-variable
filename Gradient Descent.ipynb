{
 "cells": [
  {
   "cell_type": "code",
   "execution_count": 255,
   "metadata": {},
   "outputs": [
    {
     "name": "stdout",
     "output_type": "stream",
     "text": [
      "[ 17.592     9.1302   13.662    11.854     6.8233   11.886     4.3483   12.\n",
      "   6.5987    3.8166    3.2522   15.505     3.1551    7.2258    0.71618\n",
      "   3.5129    5.3048    0.56077   3.6518    5.3893    3.1386   21.767\n",
      "   4.263     5.1875    3.0825   22.638    13.501     7.0467   14.692\n",
      "  24.147    -1.22      5.9966   12.134     1.8495    6.5426    4.5623\n",
      "   4.1164    3.3928   10.117     5.4974    0.55657   3.9115    5.3854\n",
      "   2.4406    6.7318    1.0463    5.1337    1.844     8.0043    1.0179\n",
      "   6.7504    1.8396    4.2885    4.9981    1.4233   -1.4211    2.4756\n",
      "   4.6042    3.9624    5.4141    5.1694   -0.74279  17.929    12.054\n",
      "  17.054     4.8852    5.7442    7.7754    1.0173   20.992     6.6799\n",
      "   4.0259    1.2784    3.3411   -2.6807    0.29678   3.8845    5.7014\n",
      "   6.7526    2.0576    0.47953   0.20421   0.67861   7.5435    5.3436\n",
      "   4.2415    6.7981    0.92695   0.152     2.8214    1.8451    4.2959\n",
      "   7.2029    1.9869    0.14454   9.0551    0.61705]\n",
      "(97,)\n",
      "(97, 2)\n"
     ]
    }
   ],
   "source": [
    "import numpy as np\n",
    "data = np.genfromtxt('ex1data1', delimiter=',')\n",
    "x = data[:,[0]]\n",
    "y = data[:,1]\n",
    "\n",
    "x = np.insert(x, 0, np.ones(x.size), axis=1)\n",
    "theta = np.array([0., 0.])\n",
    "\n",
    "print(y)\n",
    "print(y.shape)\n",
    "print(x.shape)"
   ]
  },
  {
   "cell_type": "code",
   "execution_count": 189,
   "metadata": {
    "collapsed": true
   },
   "outputs": [],
   "source": [
    "def cost_function(x, y, theta):\n",
    "    m = y.size\n",
    "    regression = x.dot(theta)\n",
    "    regressionError = np.sum((regression - y)**2)\n",
    "    return ((1./(2*m))*regressionError)"
   ]
  },
  {
   "cell_type": "code",
   "execution_count": 250,
   "metadata": {},
   "outputs": [
    {
     "name": "stdout",
     "output_type": "stream",
     "text": [
      "32.0727338775\n",
      "(97,)\n",
      "(97, 2)\n"
     ]
    }
   ],
   "source": [
    "print(cost_function(x, y, theta))\n",
    "print(y.shape)\n",
    "print(x.shape)"
   ]
  },
  {
   "cell_type": "markdown",
   "metadata": {},
   "source": [
    "Os dois termos principais do Gradiente Descendente são o \\alpha e o termo derivativo.\n",
    "\n",
    "O componente \\alpha do gradiente descendente é um escalar utilizado para regular a taxa de aprendizado. Pode ser interpretado como o \"tamanho do passo\" que será dado pelo vetor gradiente. Quanto maior o \\alpha, mais agressiva a taxa de aprendizado."
   ]
  },
  {
   "cell_type": "code",
   "execution_count": 260,
   "metadata": {
    "collapsed": true
   },
   "outputs": [],
   "source": [
    "def gradient_descent(x, y, theta, alpha, tolerance):\n",
    "    m = y.size\n",
    "    episilon = 0.000000001\n",
    "    residual = np.ones(tolerance)\n",
    "    interact = 0\n",
    "    converge = False\n",
    "    while not converge:\n",
    "        ' Start adjusting theta values '\n",
    "        hypothesis   = x.dot(theta)\n",
    "        error        = (hypothesis - y)\n",
    "        gradient     = (1./m)*(x.T.dot(error))\n",
    "        \n",
    "        theta = theta - (alpha)*(gradient)\n",
    "        \n",
    "        ' Run the cost function over the data with new theta '\n",
    "        residual[interact] = cost_function(x, y, theta)\n",
    "        \n",
    "        if interact % 100 == 0:\n",
    "            print('Interaction ' + str(interact) + ' - Residual cost '+ str(residual[interact]))\n",
    "        \n",
    "        ' Verify convergence over the given episilon and residual given step, also verify tolerance tries '\n",
    "        if interact > 0:\n",
    "            converge = (abs(residual[interact] - residual[interact - 1])<episilon)\n",
    "        \n",
    "        if (interact + 1) == tolerance:\n",
    "            converge = True\n",
    "            \n",
    "        interact = interact + 1\n",
    "        \n",
    "    return theta, residual, interact"
   ]
  },
  {
   "cell_type": "code",
   "execution_count": 261,
   "metadata": {},
   "outputs": [
    {
     "name": "stdout",
     "output_type": "stream",
     "text": [
      "Interaction 0 - Residual cost 6.73719046487\n",
      "Interaction 100 - Residual cost 5.47636281727\n",
      "Interaction 200 - Residual cost 5.17363455117\n",
      "Interaction 300 - Residual cost 4.96260649312\n",
      "Interaction 400 - Residual cost 4.81550149412\n",
      "Interaction 500 - Residual cost 4.71295645375\n",
      "Interaction 600 - Residual cost 4.64147359881\n",
      "Interaction 700 - Residual cost 4.59164380177\n",
      "Interaction 800 - Residual cost 4.55690807841\n",
      "Interaction 900 - Residual cost 4.53269424354\n",
      "Interaction 1000 - Residual cost 4.5158150845\n",
      "Interaction 1100 - Residual cost 4.50404883552\n",
      "Interaction 1200 - Residual cost 4.49584673168\n",
      "Interaction 1300 - Residual cost 4.49012914849\n",
      "Interaction 1400 - Residual cost 4.48614349332\n",
      "Last interaction was 1500\n",
      "[-3.63029144  1.16636235]\n"
     ]
    }
   ],
   "source": [
    "(t,r,i) = gradient_descent(x, y, theta, 0.01, 1500)\n",
    "\n",
    "print('Last interaction was '+str(i))\n",
    "print(t)"
   ]
  },
  {
   "cell_type": "markdown",
   "metadata": {},
   "source": [
    "Predicting values for 35.000 population"
   ]
  },
  {
   "cell_type": "code",
   "execution_count": 237,
   "metadata": {},
   "outputs": [
    {
     "name": "stdout",
     "output_type": "stream",
     "text": [
      "37.1923908223\n"
     ]
    }
   ],
   "source": [
    "p = np.array([1., 35.000]).dot(t)\n",
    "print(p)"
   ]
  },
  {
   "cell_type": "markdown",
   "metadata": {},
   "source": [
    "Predicting values for 70.000 population "
   ]
  },
  {
   "cell_type": "code",
   "execution_count": 239,
   "metadata": {},
   "outputs": [
    {
     "name": "stdout",
     "output_type": "stream",
     "text": [
      "78.0150730841\n"
     ]
    }
   ],
   "source": [
    "p = np.array([1., 70.000]).dot(t)\n",
    "print(p)"
   ]
  },
  {
   "cell_type": "code",
   "execution_count": null,
   "metadata": {
    "collapsed": true
   },
   "outputs": [],
   "source": []
  }
 ],
 "metadata": {
  "kernelspec": {
   "display_name": "Python 3",
   "language": "python",
   "name": "python3"
  },
  "language_info": {
   "codemirror_mode": {
    "name": "ipython",
    "version": 3
   },
   "file_extension": ".py",
   "mimetype": "text/x-python",
   "name": "python",
   "nbconvert_exporter": "python",
   "pygments_lexer": "ipython3",
   "version": "3.6.1"
  }
 },
 "nbformat": 4,
 "nbformat_minor": 2
}
