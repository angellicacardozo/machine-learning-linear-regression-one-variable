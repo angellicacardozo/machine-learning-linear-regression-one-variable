{
 "cells": [
  {
   "cell_type": "markdown",
   "metadata": {},
   "source": [
    "# Regressão Linear e a Função de Custo\n",
    "\n",
    "A Função de Custo tem como principal objetivo representar uma expressão linear que melhor representa uma hipótese para os dados em estudo.\n",
    "\n",
    "O parâmetro \\theta assume valores de modo que a função J(\\theta) seja minimizada, aproximando os valores obtidos com os valores de referência em y. "
   ]
  },
  {
   "cell_type": "code",
   "execution_count": 24,
   "metadata": {},
   "outputs": [],
   "source": [
    "import numpy as np\n",
    "data = np.genfromtxt('ex1data1', delimiter=',')\n",
    "x = data[:,[0]]\n",
    "y = data[:,[1]]\n",
    "theta = np.zeros(shape=(2,1))"
   ]
  },
  {
   "cell_type": "code",
   "execution_count": 25,
   "metadata": {
    "collapsed": true
   },
   "outputs": [],
   "source": [
    "def cost_function(x, y, theta):\n",
    "    m = y.size\n",
    "    regression = theta[0]\n",
    "    for i in range(1, theta.size):\n",
    "        regression = regression + (theta[i]*x)\n",
    "    regressionError = (regression - y)**2\n",
    "    return ((1.0/(2*m))*regressionError.sum())"
   ]
  },
  {
   "cell_type": "code",
   "execution_count": 26,
   "metadata": {},
   "outputs": [
    {
     "data": {
      "text/plain": [
       "32.072733877455676"
      ]
     },
     "execution_count": 26,
     "metadata": {},
     "output_type": "execute_result"
    }
   ],
   "source": [
    "cost_function(x,y,theta)"
   ]
  },
  {
   "cell_type": "code",
   "execution_count": null,
   "metadata": {
    "collapsed": true
   },
   "outputs": [],
   "source": []
  }
 ],
 "metadata": {
  "kernelspec": {
   "display_name": "Python 3",
   "language": "python",
   "name": "python3"
  },
  "language_info": {
   "codemirror_mode": {
    "name": "ipython",
    "version": 3
   },
   "file_extension": ".py",
   "mimetype": "text/x-python",
   "name": "python",
   "nbconvert_exporter": "python",
   "pygments_lexer": "ipython3",
   "version": "3.6.1"
  }
 },
 "nbformat": 4,
 "nbformat_minor": 2
}
