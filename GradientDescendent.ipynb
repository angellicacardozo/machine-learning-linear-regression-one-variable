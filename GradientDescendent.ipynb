{
 "cells": [
  {
   "cell_type": "code",
   "execution_count": 188,
   "metadata": {},
   "outputs": [],
   "source": [
    "import numpy as np\n",
    "data = np.genfromtxt('ex1data1', delimiter=',')\n",
    "x = data[:,[0]]\n",
    "y = data[:,1]\n",
    "\n",
    "x = np.insert(x, 0, np.ones(x.size), axis=1)\n",
    "theta = np.array([0., 0.])"
   ]
  },
  {
   "cell_type": "code",
   "execution_count": 189,
   "metadata": {},
   "outputs": [],
   "source": [
    "def cost_function(x, y, theta):\n",
    "    m = y.size\n",
    "    regression = x.dot(theta)\n",
    "    regressionError = np.sum((regression - y)**2)\n",
    "    return ((1./(2*m))*regressionError)"
   ]
  },
  {
   "cell_type": "code",
   "execution_count": 190,
   "metadata": {},
   "outputs": [
    {
     "name": "stdout",
     "output_type": "stream",
     "text": [
      "32.0727338775\n"
     ]
    }
   ],
   "source": [
    "print(cost_function(x, y, theta))"
   ]
  },
  {
   "cell_type": "markdown",
   "metadata": {},
   "source": [
    "Os dois termos principais do Gradiente Descendente são o \\alpha e o termo derivativo.\n",
    "\n",
    "O componente \\alpha do gradiente descendente é um escalar utilizado para regular a taxa de aprendizado. Pode ser interpretado como o \"tamanho do passo\" que será dado pelo vetor gradiente. Quanto maior o \\alpha, mais agressiva a taxa de aprendizado."
   ]
  },
  {
   "cell_type": "code",
   "execution_count": 232,
   "metadata": {},
   "outputs": [],
   "source": [
    "def gradient_descedent(x, y, theta, alpha, tolerance):\n",
    "    m = y.size\n",
    "    episilon = 0.00001\n",
    "    residual = np.ones(tolerance)\n",
    "    interact = 0\n",
    "    converge = False\n",
    "    while not converge:\n",
    "        ' Start adjusting theta values '\n",
    "        hypothesis   = x.dot(theta)\n",
    "        error        = (hypothesis - y)\n",
    "        gradient     = (1./m)*(x.T.dot(error))\n",
    "        \n",
    "        theta = theta - (alpha)*(gradient)\n",
    "        \n",
    "        ' Run the cost function over the data with new theta '\n",
    "        residual[interact] = cost_function(x, y, theta)\n",
    "        \n",
    "        if interact % 100 == 0:\n",
    "            print('Interaction ' + str(interact) + ' - Residual cost '+ str(residual[interact]))\n",
    "        \n",
    "        ' Verify convergence over the given episilon and residual given step, also verify tolerance tries '\n",
    "        if interact > 0:\n",
    "            converge = (abs(residual[interact] - residual[interact - 1])<episilon)\n",
    "        \n",
    "        if (interact + 1) == tolerance:\n",
    "            converge = True\n",
    "            \n",
    "        interact = interact + 1\n",
    "        \n",
    "    return theta, residual, interact"
   ]
  },
  {
   "cell_type": "code",
   "execution_count": 233,
   "metadata": {},
   "outputs": [
    {
     "name": "stdout",
     "output_type": "stream",
     "text": [
      "Interaction 0 - Residual cost 6.73719046487\n",
      "Interaction 100 - Residual cost 5.47636281727\n",
      "Interaction 200 - Residual cost 5.17363455117\n",
      "Interaction 300 - Residual cost 4.96260649312\n",
      "Interaction 400 - Residual cost 4.81550149412\n",
      "Interaction 500 - Residual cost 4.71295645375\n",
      "Interaction 600 - Residual cost 4.64147359881\n",
      "Interaction 700 - Residual cost 4.59164380177\n",
      "Interaction 800 - Residual cost 4.55690807841\n",
      "Interaction 900 - Residual cost 4.53269424354\n",
      "Interaction 1000 - Residual cost 4.5158150845\n",
      "Interaction 1100 - Residual cost 4.50404883552\n",
      "Interaction 1200 - Residual cost 4.49584673168\n",
      "Interaction 1300 - Residual cost 4.49012914849\n",
      "Interaction 1400 - Residual cost 4.48614349332\n",
      "Last interaction was 1500\n",
      "[-3.63029144  1.16636235]\n"
     ]
    }
   ],
   "source": [
    "(t,r,i) = gradient_descedent(x, y, theta, 0.01, 1500)\n",
    "\n",
    "print('Last interaction was '+str(i))\n",
    "print(t)"
   ]
  },
  {
   "cell_type": "markdown",
   "metadata": {},
   "source": [
    "Predicting values for 35.000 population"
   ]
  },
  {
   "cell_type": "code",
   "execution_count": 237,
   "metadata": {},
   "outputs": [
    {
     "name": "stdout",
     "output_type": "stream",
     "text": [
      "37.1923908223\n"
     ]
    }
   ],
   "source": [
    "p = np.array([1., 35.000]).dot(t)\n",
    "print(p)"
   ]
  },
  {
   "cell_type": "markdown",
   "metadata": {},
   "source": [
    "Predicting values for 70.000 population "
   ]
  },
  {
   "cell_type": "code",
   "execution_count": 239,
   "metadata": {},
   "outputs": [
    {
     "name": "stdout",
     "output_type": "stream",
     "text": [
      "78.0150730841\n"
     ]
    }
   ],
   "source": [
    "p = np.array([1., 70.000]).dot(t)\n",
    "print(p)"
   ]
  },
  {
   "cell_type": "code",
   "execution_count": null,
   "metadata": {
    "collapsed": true
   },
   "outputs": [],
   "source": []
  }
 ],
 "metadata": {
  "kernelspec": {
   "display_name": "Python 3",
   "language": "python",
   "name": "python3"
  },
  "language_info": {
   "codemirror_mode": {
    "name": "ipython",
    "version": 3
   },
   "file_extension": ".py",
   "mimetype": "text/x-python",
   "name": "python",
   "nbconvert_exporter": "python",
   "pygments_lexer": "ipython3",
   "version": "3.6.1"
  }
 },
 "nbformat": 4,
 "nbformat_minor": 2
}
